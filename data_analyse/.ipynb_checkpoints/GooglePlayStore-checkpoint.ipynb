{
 "cells": [
  {
   "cell_type": "raw",
   "metadata": {},
   "source": [
    "Ce fichier comporte deux partie, le code et le court rapport à la fin"
   ]
  },
  {
   "cell_type": "raw",
   "metadata": {},
   "source": [
    "Membres du binome:\n",
    "LI Yi \n",
    "Othomane Farajallah"
   ]
  },
  {
   "cell_type": "code",
   "execution_count": 2,
   "metadata": {},
   "outputs": [],
   "source": [
    "'''\n",
    "import the packages\n",
    "'''\n",
    "\n",
    "%matplotlib inline\n",
    "import sklearn\n",
    "import numpy as np\n",
    "import matplotlib.pyplot as plt\n",
    "import pandas as pd\n",
    "from sklearn.linear_model import LinearRegression\n",
    "from sklearn.model_selection import train_test_split \n",
    "from sklearn import metrics\n"
   ]
  },
  {
   "cell_type": "code",
   "execution_count": 6,
   "metadata": {},
   "outputs": [
    {
     "name": "stdout",
     "output_type": "stream",
     "text": [
      "                                                 App        Category  Rating  \\\n",
      "0     Photo Editor & Candy Camera & Grid & ScrapBook  ART_AND_DESIGN     4.1   \n",
      "1                                Coloring book moana  ART_AND_DESIGN     3.9   \n",
      "2  U Launcher Lite – FREE Live Cool Themes, Hide ...  ART_AND_DESIGN     4.7   \n",
      "3                              Sketch - Draw & Paint  ART_AND_DESIGN     4.5   \n",
      "4              Pixel Draw - Number Art Coloring Book  ART_AND_DESIGN     4.3   \n",
      "\n",
      "  Reviews  Size     Installs  Type Price Content Rating  \\\n",
      "0     159   19M      10,000+  Free     0       Everyone   \n",
      "1     967   14M     500,000+  Free     0       Everyone   \n",
      "2   87510  8.7M   5,000,000+  Free     0       Everyone   \n",
      "3  215644   25M  50,000,000+  Free     0           Teen   \n",
      "4     967  2.8M     100,000+  Free     0       Everyone   \n",
      "\n",
      "                      Genres      Last Updated         Current Ver  \\\n",
      "0               Art & Design   January 7, 2018               1.0.0   \n",
      "1  Art & Design;Pretend Play  January 15, 2018               2.0.0   \n",
      "2               Art & Design    August 1, 2018               1.2.4   \n",
      "3               Art & Design      June 8, 2018  Varies with device   \n",
      "4    Art & Design;Creativity     June 20, 2018                 1.1   \n",
      "\n",
      "    Android Ver  \n",
      "0  4.0.3 and up  \n",
      "1  4.0.3 and up  \n",
      "2  4.0.3 and up  \n",
      "3    4.2 and up  \n",
      "4    4.4 and up  \n",
      "   Rating Reviews Size  Installs Price\n",
      "0     4.1     159   19     10000     0\n",
      "1     3.9     967   14    500000     0\n",
      "3     4.5  215644   25  50000000     0\n",
      "6     3.8     178   19     50000     0\n",
      "7     4.1   36815   29   1000000     0\n"
     ]
    }
   ],
   "source": [
    "'''\n",
    "import the data et nettoyage des données\n",
    "on garde que les attributs quantifiée, et supprime d'autres paramètres non quantifiés\n",
    "'''\n",
    "dataset = pd.read_csv( \"google-play-store-apps/googleplaystore.csv\")\n",
    "print(dataset.head())\n",
    "dataset.drop(labels=['App','Category','Type','Content Rating','Genres','Last Updated','Current Ver','Android Ver'],axis=1,inplace=True)\n",
    "\n",
    "for index, row in dataset.iterrows():\n",
    "    if not row['Rating'] > 0 or not row['Reviews'].isalnum() :\n",
    "        dataset.drop(index, axis=0, inplace=True)\n",
    "        \n",
    "dataset['Size'] = dataset['Size'].map(lambda x: x.rstrip('Mk'))\n",
    "dataset['Installs'] = dataset['Installs'].map(lambda x: x.rstrip('+').replace(',',''))\n",
    "dataset['Price'] = dataset['Price'].map(lambda x: x.replace('$',''))\n",
    "\n",
    "for index, row in dataset.iterrows():\n",
    "    if not row['Size'].isalnum():\n",
    "        dataset.drop(index, axis=0, inplace=True)\n",
    "\n",
    "print(dataset.head())    \n"
   ]
  },
  {
   "cell_type": "code",
   "execution_count": 17,
   "metadata": {},
   "outputs": [
    {
     "name": "stdout",
     "output_type": "stream",
     "text": [
      "the regressor intercept is 4.191096353649103\n",
      "the regressor coef is [ 2.11513478e-08 -1.16361688e-04  4.50358139e-11 -4.07403615e-04]\n",
      "sum_erro 0.48533777657160204\n"
     ]
    },
    {
     "data": {
      "text/plain": [
       "\"\\nrepresentation le résultat avec matplotlib\\n\\nlist1 = []\\nlist2 = []\\nfor i in range (1, y_pred.size):\\n    list1.append(i)\\n    list2.append(y_pred[i])\\n\\nlist3 = []\\nlist4 = []\\nfor i in range (1, y_train.size):\\n    list3.append(i)\\n    list4.append(y_train[i])\\n#print the result\\ndf = pd.DataFrame({'Actual': y_train.flatten(), 'Predicted': y_pred.flatten()})\\nprint(df)\\nplt.scatter(list1, list2, alpha=0.8, c='blue', s=1)\\nplt.scatter(list3, list4, alpha=0.8, c='red', s=1)\\n\""
      ]
     },
     "execution_count": 17,
     "metadata": {},
     "output_type": "execute_result"
    }
   ],
   "source": [
    "'''\n",
    "Regression Linéaire \n",
    "'''\n",
    "# transformer data en numpy matrice\n",
    "X = dataset[['Reviews','Size','Installs','Price']].values\n",
    "y = dataset[['Rating']].values.squeeze()\n",
    "X_train, X_test, y_train, y_test = train_test_split(X, y, test_size=0.2, random_state=0)\n",
    "regressor = LinearRegression()  \n",
    "\n",
    "#entraînement de l'algorithm\n",
    "regressor.fit(X_train, y_train)\n",
    "\n",
    "#le intercept:\n",
    "print('the regressor intercept is', regressor.intercept_)\n",
    "#le slope:\n",
    "print('the regressor coef is', regressor.coef_)\n",
    "y_pred = regressor.predict(X_test)\n",
    "#print(y_pred)\n",
    "#zip(feature_cols, regressor.coef_)\n",
    "\n",
    "sum_mean=0\n",
    "for i in range(len(y_pred)):\n",
    "    sum_mean+=(y_pred[i]-y_test[i])**2\n",
    "    \n",
    "sum_erro=np.sqrt(sum_mean/len(y_pred))  #这个10是你测试级的数量\n",
    "print(\"sum_erro\", sum_erro)\n",
    "'''\n",
    "representation le résultat avec matplotlib\n",
    "\n",
    "list1 = []\n",
    "list2 = []\n",
    "for i in range (1, y_pred.size):\n",
    "    list1.append(i)\n",
    "    list2.append(y_pred[i])\n",
    "\n",
    "list3 = []\n",
    "list4 = []\n",
    "for i in range (1, y_train.size):\n",
    "    list3.append(i)\n",
    "    list4.append(y_train[i])\n",
    "#print the result\n",
    "df = pd.DataFrame({'Actual': y_train.flatten(), 'Predicted': y_pred.flatten()})\n",
    "print(df)\n",
    "plt.scatter(list1, list2, alpha=0.8, c='blue', s=1)\n",
    "plt.scatter(list3, list4, alpha=0.8, c='red', s=1)\n",
    "'''"
   ]
  },
  {
   "cell_type": "raw",
   "metadata": {},
   "source": [
    "RAPPORT\n",
    "\n",
    "Cette exercices est réalisée dans plusieurs étapes\n",
    "1) Nettoyage des données. \n",
    "on garde que les attributs quantifiée, et  supprime d'autres paramètres non quantifiés. On a supprimé les attributs : 'App', 'Category', 'Type', 'Content Rating', 'Genres', 'Last Updated', 'Current Ver', 'Android Ver'. On a supprimé les lignes où les données ne sont completes. On a transformé les donnée string en chiffres. \n",
    "\n",
    "2) Réalisation de la modèle regression linéaire.\n",
    "On a choisi 'Reviews', 'Size', 'Installs', 'Price' comme variables indépendantes, ‘Rating’ comme variable dépendante. On utilise sklearn pour construire la modèle, On utilise 80% des données pour entrainer la modèle et 20% des données pour la tester.\n",
    "\n",
    "3）Explication du résultat \n",
    "\tLe regressor intercept est  4.191096353649103, Les  regressor coefs sont \n",
    " [ 2.11513478e-08,  -1.16361688e-04 ,  4.50358139e-11 , -4.07403615e-04]\n",
    "On peut dire que quand “Reviews” augmente 1, “Rating” va augmenter 2.11513478e-08; quand “'Size'” augmente 1, “Rating” va augmenter -1.16361688e-04; quand “'Installs'” augmente 1, “Rating” va augmenter 4.50358139e-11; quand “Price” augmente 1, “Rating” va augmenter -4.07403615e-04;\n",
    "\n",
    "4）Evaluation de modèle\n",
    "\tIci on utilise “Root Mean Squared Error(RMSE)”.  Ici RMSE est 0.4853.\n",
    "    \n",
    "5）Des solutions pour améliorer la prédiction.\n",
    " Pour avoir un bon modèle regression liéaire, il faut avoir plusieur hypothèses, par exemple,\n",
    "    - suppose qu'il n'y ait pas de corrélation linéaire entre les variables explicatives; \n",
    "    - Suppose que les termes de perturbation aléatoire ne soient pas corrélés et que la variance soit la même; Hypothèse moyenne nulle\n",
    "    - suppose que la valeur attendue ou moyenne du terme de perturbation aléatoire soit égale à zéro\n",
    "    - suppose que la covariance du terme de perturbation aléatoire et de la variable indépendante est 0.\n",
    "    - suppose que le terme de perturbation aléatoire obéisse à la distribution normale\n",
    " \n",
    " Pour cette exercice, on pense que les donnée qu'on a choisi a pas satisfait toutes les hypothèse. Par exemple, on pense il exite ralation entre 'Price' et 'Installs', car normalement les gens aiment les applications gratuites. Si les données satisfait pas les hypothèse, ça va poser des mauvaise influence sur la modèle. Donc il faut utiliser certains pour compenser les hypothèse que les donnée ont pas satisfait. Par exemple, on peut augmenter le nombre de donnée si il satisfait pas l'hyppthèse \"il n'y ait pas de corrélation linéaire entre les variables explicatives\""
   ]
  }
 ],
 "metadata": {
  "kernelspec": {
   "display_name": "Python 3",
   "language": "python",
   "name": "python3"
  },
  "language_info": {
   "codemirror_mode": {
    "name": "ipython",
    "version": 3
   },
   "file_extension": ".py",
   "mimetype": "text/x-python",
   "name": "python",
   "nbconvert_exporter": "python",
   "pygments_lexer": "ipython3",
   "version": "3.7.1"
  }
 },
 "nbformat": 4,
 "nbformat_minor": 2
}
