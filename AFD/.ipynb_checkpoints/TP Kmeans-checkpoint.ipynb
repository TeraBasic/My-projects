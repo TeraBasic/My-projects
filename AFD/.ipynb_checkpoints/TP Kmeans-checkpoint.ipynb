{
 "cells": [
  {
   "cell_type": "markdown",
   "metadata": {},
   "source": [
    "# TP sur k-means\n",
    "\n",
    "Dans ce TP, vous devrez coder l'algorithme k-means.\n",
    "\n",
    "(emprunts au Python Data Science Handbook de Jake VDP)"
   ]
  },
  {
   "cell_type": "code",
   "execution_count": 1,
   "metadata": {},
   "outputs": [],
   "source": [
    "%matplotlib inline\n",
    "import sklearn\n",
    "import numpy as np\n",
    "import matplotlib.pyplot as plt"
   ]
  },
  {
   "cell_type": "markdown",
   "metadata": {},
   "source": [
    "### Générons des données aléatoires:"
   ]
  },
  {
   "cell_type": "code",
   "execution_count": 20,
   "metadata": {},
   "outputs": [
    {
     "data": {
      "image/png": "[encoded data removed]",
      "text/plain": [
       "<Figure size 432x288 with 1 Axes>"
      ]
     },
     "metadata": {
      "needs_background": "light"
     },
     "output_type": "display_data"
    }
   ],
   "source": [
    "from sklearn.datasets.samples_generator import make_blobs\n",
    "X, y_true = make_blobs(n_samples=300, centers=4,\n",
    "                       cluster_std=0.60, random_state=0)\n",
    "plt.scatter(X[:, 0], X[:, 1], s=50);"
   ]
  },
  {
   "cell_type": "markdown",
   "metadata": {},
   "source": [
    "On obtient donc un tableau $X \\in \\mathbb{R}^{300 \\times 2}$, donc avec 300 lignes et 2 colonnes"
   ]
  },
  {
   "cell_type": "markdown",
   "metadata": {},
   "source": [
    "\n",
    "### Ecriture de la fonction `find_clusters`\n",
    "\n",
    "Le but de cette partie sera de complêter le code de la fonction `find_clusters` ci-dessous, afin qu'elle réalise un k-means.\n",
    "\n",
    "Lisez attentivement le code incomplet de la fonction `find_clusters` ci-dessous. Dans le code, j'utilise les trois points `...`, ce qui correspond en python à l'instruction \"ne rien faire\".\n",
    "\n",
    "**Exercice**: Exécutez la fonction `find_clusters` et expliquez ce que cette fonction renvoie (et pourquoi elle renvoie cela).\n",
    "\n",
    "**Exercice**: Ecrivez une fonction `dist(x,y)` qui calcule la distance euclidienne entre les vecteurs `x` et `y`.\n",
    "\n",
    "**Exercice**: Remplacez les `...` de cette fonction par les instructions manquantes pour obtenir un algorithme de k-means. Vérifiez que cette fonction marche bien en affichant le résultat (voir ci-dessous)\n",
    "\n",
    "**Exercice (bonus)**: Modifiez l'algorithme pour qu'au lieu que les représentants des clusters soient leur barycentre, on choisisse à la place le point de `X` le plus proche du barycentre."
   ]
  },
  {
   "cell_type": "code",
   "execution_count": 23,
   "metadata": {},
   "outputs": [],
   "source": [
    "def find_clusters(X, K):\n",
    "    # n=nb d'exemples, d=nb de variables, K=nb de clusters\n",
    "    n,d = X.shape\n",
    "\n",
    "    indices   = np.random.choice(range(n),size=K)\n",
    "    centroids = X[indices,:]                     # centroids[i] est un vecteur de dimension d, egale au ième centroid.\n",
    "    labels    = np.random.randint(K,size=n)      # labels[i]   indique le numero du cluster affecté à X[i]\n",
    "\n",
    "    while True:\n",
    "        # Pour chaque point X[i], trouver le cluster qui est le plus proche, et le ranger dans labels[i]\n",
    "        for i in range(n):\n",
    "            dist_ini = dist(X[i],centroids[0])\n",
    "            labels[i] = 0\n",
    "            for j in range(K):\n",
    "                if dist(X[i],centroids[j]) < dist_ini:\n",
    "                    dist_ini = dist(X[i],centroids[j])\n",
    "                    labels[i] = j\n",
    "                    \n",
    "        # Mettre a jour les centroids\n",
    "        new_centroids = np.zeros((n,d))\n",
    "        for k in range(K):\n",
    "            # calculer le centroid du cluster k, et le stocker dans new_centroid[k]\n",
    "            nb_el = 0\n",
    "            somme_x0 = 0\n",
    "            somme_x1 = 0\n",
    "            for i2 in range(n):\n",
    "                if labels[i2] == k:\n",
    "                    nb_el += 1\n",
    "                    somme_x0 += X[i2][0]\n",
    "                    somme_x1 += X[i2][1]\n",
    "            new_centroids[k][0] = somme_x0/nb_el\n",
    "            new_centroids[k][1] = somme_x1/nb_el\n",
    "        \n",
    "        # Si convergence alors s'arréter\n",
    "        if np.all(centroids == new_centroids):\n",
    "            break\n",
    "        centroids = new_centroids\n",
    "    \n",
    "    return centroids, labels\n",
    "\n",
    "\n",
    "def dist(x, y):\n",
    "    dist = np.linalg.norm(x - y)\n",
    "    return dist"
   ]
  },
  {
   "cell_type": "markdown",
   "metadata": {},
   "source": [
    "### Affichage du résultat:"
   ]
  },
  {
   "cell_type": "code",
   "execution_count": 24,
   "metadata": {},
   "outputs": [
    {
     "name": "stderr",
     "output_type": "stream",
     "text": [
      "/Users/utilisateur/anaconda3/lib/python3.7/site-packages/ipykernel_launcher.py:35: DeprecationWarning: elementwise == comparison failed; this will raise an error in the future.\n"
     ]
    },
    {
     "data": {
      "image/png": "[encoded data removed]",
      "text/plain": [
       "<Figure size 432x288 with 1 Axes>"
      ]
     },
     "metadata": {
      "needs_background": "light"
     },
     "output_type": "display_data"
    }
   ],
   "source": [
    "centers, labels = find_clusters(X, 4)\n",
    "plt.scatter(X[:, 0], X[:, 1], c=labels,\n",
    "                s=50, cmap='viridis');"
   ]
  },
  {
   "cell_type": "code",
   "execution_count": null,
   "metadata": {},
   "outputs": [],
   "source": []
  },
  {
   "cell_type": "code",
   "execution_count": null,
   "metadata": {},
   "outputs": [],
   "source": []
  }
 ],
 "metadata": {
  "kernelspec": {
   "display_name": "Python 3",
   "language": "python",
   "name": "python3"
  },
  "language_info": {
   "codemirror_mode": {
    "name": "ipython",
    "version": 3
   },
   "file_extension": ".py",
   "mimetype": "text/x-python",
   "name": "python",
   "nbconvert_exporter": "python",
   "pygments_lexer": "ipython3",
   "version": "3.7.1"
  }
 },
 "nbformat": 4,
 "nbformat_minor": 2
}
