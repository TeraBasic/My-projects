{
 "cells": [
  {
   "cell_type": "raw",
   "metadata": {},
   "source": [
    "import the packages"
   ]
  },
  {
   "cell_type": "code",
   "execution_count": 62,
   "metadata": {},
   "outputs": [],
   "source": [
    "%matplotlib inline\n",
    "import sklearn\n",
    "import numpy as np\n",
    "import matplotlib.pyplot as plt\n",
    "import pandas as pd\n",
    "from sklearn.linear_model import LinearRegression\n",
    "from sklearn.model_selection import train_test_split \n",
    "from sklearn import metrics\n"
   ]
  },
  {
   "cell_type": "raw",
   "metadata": {},
   "source": [
    "import the data et mise en forme"
   ]
  },
  {
   "cell_type": "code",
   "execution_count": 102,
   "metadata": {},
   "outputs": [
    {
     "name": "stdout",
     "output_type": "stream",
     "text": [
      "   Rating Reviews Size  Installs Price\n",
      "0     4.1     159   19     10000     0\n",
      "1     3.9     967   14    500000     0\n",
      "3     4.5  215644   25  50000000     0\n",
      "6     3.8     178   19     50000     0\n",
      "7     4.1   36815   29   1000000     0\n"
     ]
    }
   ],
   "source": [
    "dataset = pandas.read_csv( \"google-play-store-apps/googleplaystore.csv\")\n",
    "dataset.drop(labels=['App','Category','Type','Content Rating','Genres','Last Updated','Current Ver','Android Ver'],axis=1,inplace=True)\n",
    "#apps.head()\n",
    "#dataset.describe()\n",
    "\n",
    "for index, row in dataset.iterrows():\n",
    "    if not row['Rating'] > 0 or not row['Reviews'].isalnum() :\n",
    "        dataset.drop(index, axis=0, inplace=True)\n",
    "\n",
    "#for index, row in dataset.iterrows():\n",
    "#    row['Size'].strip('M')\n",
    "#    row['Installs'].rstrip('+')\n",
    "dataset['Size'] = dataset['Size'].map(lambda x: x.rstrip('Mk'))\n",
    "dataset['Installs'] = dataset['Installs'].map(lambda x: x.rstrip('+').replace(',',''))\n",
    "\n",
    "for index, row in dataset.iterrows():\n",
    "    if not row['Size'].isalnum():\n",
    "        dataset.drop(index, axis=0, inplace=True)\n",
    "\n",
    "print(dataset.head())    \n"
   ]
  },
  {
   "cell_type": "raw",
   "metadata": {},
   "source": [
    "do Linéaire regression"
   ]
  },
  {
   "cell_type": "code",
   "execution_count": 100,
   "metadata": {},
   "outputs": [
    {
     "name": "stdout",
     "output_type": "stream",
     "text": [
      "[['159' '19' '10000']\n",
      " ['967' '14' '500000']\n",
      " ['215644' '25' '50000000']\n",
      " ...\n",
      " ['44' '619' '1000']\n",
      " ['38' '53' '5000']\n",
      " ['398307' '19' '10000000']]\n",
      "[4.1 3.9 4.5 ... 4.8 4.5 4.5]\n",
      "the regressor intercept is 4.190787267653139\n",
      "the regressor coef is [ 2.11644172e-08 -1.16199650e-04  4.56690945e-11]\n",
      "[4.18076576 4.19445329 4.19211171 ... 4.18851067 4.19035001 4.18783035]\n",
      "      Actual  Predicted\n",
      "0        4.4   4.180766\n",
      "1        4.3   4.194453\n",
      "2        4.5   4.192112\n",
      "3        3.8   4.188001\n",
      "4        4.5   4.189634\n",
      "5        3.9   4.189204\n",
      "6        4.6   4.185763\n",
      "7        4.8   4.188928\n",
      "8        4.9   4.187766\n",
      "9        3.8   4.157067\n",
      "10       4.6   4.187589\n",
      "11       3.9   4.188928\n",
      "12       4.5   4.114673\n",
      "13       4.0   4.190502\n",
      "14       4.4   4.188794\n",
      "15       3.8   4.186520\n",
      "16       4.3   4.191523\n",
      "17       3.9   4.135826\n",
      "18       4.5   4.203205\n",
      "19       3.9   4.183729\n",
      "20       4.6   4.189760\n",
      "21       4.3   4.207356\n",
      "22       3.9   4.183351\n",
      "23       5.0   4.189277\n",
      "24       3.6   4.186811\n",
      "25       3.6   4.188712\n",
      "26       4.3   4.201941\n",
      "27       4.6   4.186920\n",
      "28       3.4   4.186157\n",
      "29       4.5   4.188464\n",
      "...      ...        ...\n",
      "3834     4.7   4.189148\n",
      "3835     5.0   4.188347\n",
      "3836     4.1   4.186442\n",
      "3837     4.3   4.186140\n",
      "3838     3.9   4.188809\n",
      "3839     4.5   4.080283\n",
      "3840     4.7   4.182678\n",
      "3841     4.4   4.348369\n",
      "3842     4.1   4.189560\n",
      "3843     4.3   4.183921\n",
      "3844     4.3   4.189312\n",
      "3845     4.5   4.185339\n",
      "3846     3.9   4.189918\n",
      "3847     3.1   4.189179\n",
      "3848     4.1   4.186843\n",
      "3849     4.4   4.189279\n",
      "3850     4.6   4.190021\n",
      "3851     4.2   4.189961\n",
      "3852     4.4   4.187389\n",
      "3853     2.2   4.186954\n",
      "3854     4.4   4.187665\n",
      "3855     4.2   4.189145\n",
      "3856     4.4   4.188410\n",
      "3857     3.4   4.184633\n",
      "3858     4.3   4.190596\n",
      "3859     4.6   4.190069\n",
      "3860     4.5   4.182908\n",
      "3861     3.1   4.188511\n",
      "3862     4.2   4.190350\n",
      "3863     4.0   4.187830\n",
      "\n",
      "[3864 rows x 2 columns]\n"
     ]
    },
    {
     "data": {
      "text/plain": [
       "<matplotlib.collections.PathCollection at 0xa21d92550>"
      ]
     },
     "execution_count": 100,
     "metadata": {},
     "output_type": "execute_result"
    },
    {
     "data": {
      "image/png": "[encoded data removed]",
      "text/plain": [
       "<Figure size 432x288 with 1 Axes>"
      ]
     },
     "metadata": {
      "needs_background": "light"
     },
     "output_type": "display_data"
    }
   ],
   "source": [
    "X = dataset[['Reviews','Size','Installs']].values\n",
    "print (X)\n",
    "y = dataset[['Rating']].values.squeeze()\n",
    "print (y)\n",
    "X_train, X_test, y_train, y_test = train_test_split(X, y, test_size=0.2, random_state=0)\n",
    "regressor = LinearRegression()  \n",
    "regressor.fit(X_train, y_train) #training the algorithm\n",
    "#To retrieve the intercept:\n",
    "print('the regressor intercept is', regressor.intercept_)\n",
    "#For retrieving the slope:\n",
    "print('the regressor coef is' , regressor.coef_)\n",
    "\n",
    "y_pred = regressor.predict(X_train)\n",
    "print(y_pred)\n",
    "list1 = []\n",
    "list2 = []\n",
    "for i in range (1, y_pred.size):\n",
    "    list1.append(i)\n",
    "    list2.append(y_pred[i])\n",
    "\n",
    "list3 = []\n",
    "list4 = []\n",
    "for i in range (1, y_train.size):\n",
    "    list3.append(i)\n",
    "    list4.append(y_train[i])\n",
    "#print the result\n",
    "df = pd.DataFrame({'Actual': y_train.flatten(), 'Predicted': y_pred.flatten()})\n",
    "print(df)\n",
    "plt.scatter(list1, list2, alpha=0.8, c='blue', s=1)\n",
    "plt.scatter(list3, list4, alpha=0.8, c='red', s=1)"
   ]
  },
  {
   "cell_type": "code",
   "execution_count": null,
   "metadata": {},
   "outputs": [],
   "source": []
  }
 ],
 "metadata": {
  "kernelspec": {
   "display_name": "Python 3",
   "language": "python",
   "name": "python3"
  },
  "language_info": {
   "codemirror_mode": {
    "name": "ipython",
    "version": 3
   },
   "file_extension": ".py",
   "mimetype": "text/x-python",
   "name": "python",
   "nbconvert_exporter": "python",
   "pygments_lexer": "ipython3",
   "version": "3.7.1"
  }
 },
 "nbformat": 4,
 "nbformat_minor": 2
}
